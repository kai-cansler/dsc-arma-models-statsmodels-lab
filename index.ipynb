{
 "cells": [
  {
   "cell_type": "markdown",
   "metadata": {},
   "source": [
    "# ARMA Models in StatsModels - Lab \n",
    "\n",
    "## Introduction\n",
    "\n",
    "In this lesson, you'll fit an ARMA model using `statsmodels` to a real-world dataset. \n",
    "\n",
    "\n",
    "## Objectives\n",
    "\n",
    "In this lab you will: \n",
    "\n",
    "- Decide the optimal parameters for an ARMA model by plotting ACF and PACF and interpreting them \n",
    "- Fit an ARMA model using StatsModels \n",
    "\n",
    "## Dataset\n",
    "\n",
    "Run the cell below to import the dataset containing the historical running times for the men's 400m in the Olympic games."
   ]
  },
  {
   "cell_type": "code",
   "execution_count": 1,
   "metadata": {},
   "outputs": [],
   "source": [
    "import pandas as pd\n",
    "import matplotlib.pyplot as plt\n",
    "import numpy as np\n",
    "import warnings\n",
    "from statsmodels.tools.sm_exceptions import ConvergenceWarning\n",
    "\n",
    "warnings.simplefilter(\"ignore\", ConvergenceWarning)\n",
    "\n",
    "data = pd.read_csv(\"winning_400m.csv\")\n",
    "data[\"year\"] = pd.to_datetime(data[\"year\"].astype(str))\n",
    "data.set_index(\"year\", inplace=True)\n",
    "data.index = data.index.to_period(\"Y\")"
   ]
  },
  {
   "cell_type": "code",
   "execution_count": 2,
   "metadata": {},
   "outputs": [
    {
     "data": {
      "text/html": [
       "<div>\n",
       "<style scoped>\n",
       "    .dataframe tbody tr th:only-of-type {\n",
       "        vertical-align: middle;\n",
       "    }\n",
       "\n",
       "    .dataframe tbody tr th {\n",
       "        vertical-align: top;\n",
       "    }\n",
       "\n",
       "    .dataframe thead th {\n",
       "        text-align: right;\n",
       "    }\n",
       "</style>\n",
       "<table border=\"1\" class=\"dataframe\">\n",
       "  <thead>\n",
       "    <tr style=\"text-align: right;\">\n",
       "      <th></th>\n",
       "      <th>winning_times</th>\n",
       "    </tr>\n",
       "    <tr>\n",
       "      <th>year</th>\n",
       "      <th></th>\n",
       "    </tr>\n",
       "  </thead>\n",
       "  <tbody>\n",
       "    <tr>\n",
       "      <th>1900</th>\n",
       "      <td>49.4</td>\n",
       "    </tr>\n",
       "    <tr>\n",
       "      <th>1904</th>\n",
       "      <td>49.2</td>\n",
       "    </tr>\n",
       "    <tr>\n",
       "      <th>1908</th>\n",
       "      <td>50.0</td>\n",
       "    </tr>\n",
       "    <tr>\n",
       "      <th>1912</th>\n",
       "      <td>48.2</td>\n",
       "    </tr>\n",
       "    <tr>\n",
       "      <th>1920</th>\n",
       "      <td>49.6</td>\n",
       "    </tr>\n",
       "    <tr>\n",
       "      <th>1924</th>\n",
       "      <td>47.6</td>\n",
       "    </tr>\n",
       "    <tr>\n",
       "      <th>1928</th>\n",
       "      <td>47.8</td>\n",
       "    </tr>\n",
       "    <tr>\n",
       "      <th>1932</th>\n",
       "      <td>46.2</td>\n",
       "    </tr>\n",
       "    <tr>\n",
       "      <th>1936</th>\n",
       "      <td>46.5</td>\n",
       "    </tr>\n",
       "    <tr>\n",
       "      <th>1948</th>\n",
       "      <td>46.2</td>\n",
       "    </tr>\n",
       "    <tr>\n",
       "      <th>1952</th>\n",
       "      <td>45.9</td>\n",
       "    </tr>\n",
       "    <tr>\n",
       "      <th>1956</th>\n",
       "      <td>46.7</td>\n",
       "    </tr>\n",
       "    <tr>\n",
       "      <th>1960</th>\n",
       "      <td>44.9</td>\n",
       "    </tr>\n",
       "    <tr>\n",
       "      <th>1964</th>\n",
       "      <td>45.1</td>\n",
       "    </tr>\n",
       "    <tr>\n",
       "      <th>1968</th>\n",
       "      <td>43.8</td>\n",
       "    </tr>\n",
       "    <tr>\n",
       "      <th>1972</th>\n",
       "      <td>44.7</td>\n",
       "    </tr>\n",
       "    <tr>\n",
       "      <th>1976</th>\n",
       "      <td>44.3</td>\n",
       "    </tr>\n",
       "    <tr>\n",
       "      <th>1980</th>\n",
       "      <td>44.6</td>\n",
       "    </tr>\n",
       "    <tr>\n",
       "      <th>1984</th>\n",
       "      <td>44.3</td>\n",
       "    </tr>\n",
       "    <tr>\n",
       "      <th>1988</th>\n",
       "      <td>43.9</td>\n",
       "    </tr>\n",
       "    <tr>\n",
       "      <th>1992</th>\n",
       "      <td>43.5</td>\n",
       "    </tr>\n",
       "    <tr>\n",
       "      <th>1996</th>\n",
       "      <td>43.5</td>\n",
       "    </tr>\n",
       "  </tbody>\n",
       "</table>\n",
       "</div>"
      ],
      "text/plain": [
       "      winning_times\n",
       "year               \n",
       "1900           49.4\n",
       "1904           49.2\n",
       "1908           50.0\n",
       "1912           48.2\n",
       "1920           49.6\n",
       "1924           47.6\n",
       "1928           47.8\n",
       "1932           46.2\n",
       "1936           46.5\n",
       "1948           46.2\n",
       "1952           45.9\n",
       "1956           46.7\n",
       "1960           44.9\n",
       "1964           45.1\n",
       "1968           43.8\n",
       "1972           44.7\n",
       "1976           44.3\n",
       "1980           44.6\n",
       "1984           44.3\n",
       "1988           43.9\n",
       "1992           43.5\n",
       "1996           43.5"
      ]
     },
     "execution_count": 2,
     "metadata": {},
     "output_type": "execute_result"
    }
   ],
   "source": [
    "# Preview the dataset\n",
    "data"
   ]
  },
  {
   "cell_type": "markdown",
   "metadata": {},
   "source": [
    "Plot this time series data. "
   ]
  },
  {
   "cell_type": "code",
   "execution_count": 4,
   "metadata": {},
   "outputs": [
    {
     "data": {
      "text/plain": [
       "<AxesSubplot:xlabel='year'>"
      ]
     },
     "execution_count": 4,
     "metadata": {},
     "output_type": "execute_result"
    },
    {
     "data": {
      "image/png": "[encoded data removed]",
      "text/plain": [
       "<Figure size 1008x432 with 1 Axes>"
      ]
     },
     "metadata": {
      "needs_background": "light"
     },
     "output_type": "display_data"
    }
   ],
   "source": [
    "# Plot the time series\n",
    "data.plot(figsize=(14,6), linewidth=2, fontsize=12)"
   ]
  },
  {
   "cell_type": "markdown",
   "metadata": {},
   "source": [
    "If you plotted the time series correctly, you should notice that it is not stationary. So, difference the data to get a stationary time series. Make sure to remove the missing values."
   ]
  },
  {
   "cell_type": "code",
   "execution_count": 5,
   "metadata": {},
   "outputs": [
    {
     "data": {
      "text/html": [
       "<div>\n",
       "<style scoped>\n",
       "    .dataframe tbody tr th:only-of-type {\n",
       "        vertical-align: middle;\n",
       "    }\n",
       "\n",
       "    .dataframe tbody tr th {\n",
       "        vertical-align: top;\n",
       "    }\n",
       "\n",
       "    .dataframe thead th {\n",
       "        text-align: right;\n",
       "    }\n",
       "</style>\n",
       "<table border=\"1\" class=\"dataframe\">\n",
       "  <thead>\n",
       "    <tr style=\"text-align: right;\">\n",
       "      <th></th>\n",
       "      <th>winning_times</th>\n",
       "    </tr>\n",
       "    <tr>\n",
       "      <th>year</th>\n",
       "      <th></th>\n",
       "    </tr>\n",
       "  </thead>\n",
       "  <tbody>\n",
       "    <tr>\n",
       "      <th>1904</th>\n",
       "      <td>-0.2</td>\n",
       "    </tr>\n",
       "    <tr>\n",
       "      <th>1908</th>\n",
       "      <td>0.8</td>\n",
       "    </tr>\n",
       "    <tr>\n",
       "      <th>1912</th>\n",
       "      <td>-1.8</td>\n",
       "    </tr>\n",
       "    <tr>\n",
       "      <th>1920</th>\n",
       "      <td>1.4</td>\n",
       "    </tr>\n",
       "    <tr>\n",
       "      <th>1924</th>\n",
       "      <td>-2.0</td>\n",
       "    </tr>\n",
       "    <tr>\n",
       "      <th>1928</th>\n",
       "      <td>0.2</td>\n",
       "    </tr>\n",
       "    <tr>\n",
       "      <th>1932</th>\n",
       "      <td>-1.6</td>\n",
       "    </tr>\n",
       "    <tr>\n",
       "      <th>1936</th>\n",
       "      <td>0.3</td>\n",
       "    </tr>\n",
       "    <tr>\n",
       "      <th>1948</th>\n",
       "      <td>-0.3</td>\n",
       "    </tr>\n",
       "    <tr>\n",
       "      <th>1952</th>\n",
       "      <td>-0.3</td>\n",
       "    </tr>\n",
       "    <tr>\n",
       "      <th>1956</th>\n",
       "      <td>0.8</td>\n",
       "    </tr>\n",
       "    <tr>\n",
       "      <th>1960</th>\n",
       "      <td>-1.8</td>\n",
       "    </tr>\n",
       "    <tr>\n",
       "      <th>1964</th>\n",
       "      <td>0.2</td>\n",
       "    </tr>\n",
       "    <tr>\n",
       "      <th>1968</th>\n",
       "      <td>-1.3</td>\n",
       "    </tr>\n",
       "    <tr>\n",
       "      <th>1972</th>\n",
       "      <td>0.9</td>\n",
       "    </tr>\n",
       "    <tr>\n",
       "      <th>1976</th>\n",
       "      <td>-0.4</td>\n",
       "    </tr>\n",
       "    <tr>\n",
       "      <th>1980</th>\n",
       "      <td>0.3</td>\n",
       "    </tr>\n",
       "    <tr>\n",
       "      <th>1984</th>\n",
       "      <td>-0.3</td>\n",
       "    </tr>\n",
       "    <tr>\n",
       "      <th>1988</th>\n",
       "      <td>-0.4</td>\n",
       "    </tr>\n",
       "    <tr>\n",
       "      <th>1992</th>\n",
       "      <td>-0.4</td>\n",
       "    </tr>\n",
       "    <tr>\n",
       "      <th>1996</th>\n",
       "      <td>0.0</td>\n",
       "    </tr>\n",
       "  </tbody>\n",
       "</table>\n",
       "</div>"
      ],
      "text/plain": [
       "      winning_times\n",
       "year               \n",
       "1904           -0.2\n",
       "1908            0.8\n",
       "1912           -1.8\n",
       "1920            1.4\n",
       "1924           -2.0\n",
       "1928            0.2\n",
       "1932           -1.6\n",
       "1936            0.3\n",
       "1948           -0.3\n",
       "1952           -0.3\n",
       "1956            0.8\n",
       "1960           -1.8\n",
       "1964            0.2\n",
       "1968           -1.3\n",
       "1972            0.9\n",
       "1976           -0.4\n",
       "1980            0.3\n",
       "1984           -0.3\n",
       "1988           -0.4\n",
       "1992           -0.4\n",
       "1996            0.0"
      ]
     },
     "execution_count": 5,
     "metadata": {},
     "output_type": "execute_result"
    }
   ],
   "source": [
    "# Difference the time series\n",
    "data_diff = data.diff().dropna()\n",
    "data_diff"
   ]
  },
  {
   "cell_type": "markdown",
   "metadata": {},
   "source": [
    "Use `statsmodels` to plot the ACF and PACF of this differenced time series. "
   ]
  },
  {
   "cell_type": "code",
   "execution_count": 7,
   "metadata": {},
   "outputs": [
    {
     "data": {
      "image/png": "[encoded data removed]",
      "text/plain": [
       "<Figure size 576x216 with 1 Axes>"
      ]
     },
     "metadata": {
      "needs_background": "light"
     },
     "output_type": "display_data"
    }
   ],
   "source": [
    "# Plot the ACF\n",
    "from statsmodels.graphics.tsaplots import plot_acf\n",
    "\n",
    "fig, ax = plt.subplots(figsize=(8, 3))\n",
    "plot_acf(data_diff, ax=ax, lags=8);"
   ]
  },
  {
   "cell_type": "code",
   "execution_count": 8,
   "metadata": {},
   "outputs": [
    {
     "data": {
      "image/png": "[encoded data removed]",
      "text/plain": [
       "<Figure size 576x216 with 1 Axes>"
      ]
     },
     "metadata": {
      "needs_background": "light"
     },
     "output_type": "display_data"
    }
   ],
   "source": [
    "# Plot the PACF\n",
    "from statsmodels.graphics.tsaplots import plot_pacf\n",
    "\n",
    "fig, ax = plt.subplots(figsize=(8,3))\n",
    "plot_pacf(data_diff, ax=ax, lags=8, method='ywm');"
   ]
  },
  {
   "cell_type": "markdown",
   "metadata": {},
   "source": [
    "Based on the ACF and PACF, fit an ARMA model with the right orders for AR and MA. Feel free to try different models and compare AIC and BIC values, as well as significance values for the parameter estimates. "
   ]
  },
  {
   "cell_type": "code",
   "execution_count": 10,
   "metadata": {},
   "outputs": [
    {
     "name": "stdout",
     "output_type": "stream",
     "text": [
      "                               SARIMAX Results                                \n",
      "==============================================================================\n",
      "Dep. Variable:          winning_times   No. Observations:                   21\n",
      "Model:                 ARIMA(1, 0, 0)   Log Likelihood                 -20.054\n",
      "Date:                Fri, 23 Feb 2024   AIC                             46.107\n",
      "Time:                        00:32:02   BIC                             49.241\n",
      "Sample:                    12-31-1904   HQIC                            46.787\n",
      "                         - 12-31-1996                                         \n",
      "Covariance Type:                  opg                                         \n",
      "==============================================================================\n",
      "                 coef    std err          z      P>|z|      [0.025      0.975]\n",
      "------------------------------------------------------------------------------\n",
      "const         -0.2885      0.081     -3.559      0.000      -0.447      -0.130\n",
      "ar.L1         -0.7186      0.144     -5.005      0.000      -1.000      -0.437\n",
      "sigma2         0.3819      0.180      2.121      0.034       0.029       0.735\n",
      "===================================================================================\n",
      "Ljung-Box (L1) (Q):                   0.04   Jarque-Bera (JB):                 1.19\n",
      "Prob(Q):                              0.84   Prob(JB):                         0.55\n",
      "Heteroskedasticity (H):               0.33   Skew:                             0.20\n",
      "Prob(H) (two-sided):                  0.16   Kurtosis:                         1.91\n",
      "===================================================================================\n",
      "\n",
      "Warnings:\n",
      "[1] Covariance matrix calculated using the outer product of gradients (complex-step).\n"
     ]
    }
   ],
   "source": [
    "# Import ARIMA model\n",
    "from statsmodels.tsa.arima.model import ARIMA\n",
    "\n",
    "# Fit an ARMA(1,0)\n",
    "mod_arma = ARIMA(data_diff, order=(1, 0, 0))\n",
    "res_arma = mod_arma.fit()\n",
    "\n",
    "# Print out summary information on the fit\n",
    "print(res_arma.summary())"
   ]
  },
  {
   "cell_type": "code",
   "execution_count": 11,
   "metadata": {},
   "outputs": [
    {
     "name": "stdout",
     "output_type": "stream",
     "text": [
      "                               SARIMAX Results                                \n",
      "==============================================================================\n",
      "Dep. Variable:          winning_times   No. Observations:                   21\n",
      "Model:                 ARIMA(2, 0, 1)   Log Likelihood                 -19.931\n",
      "Date:                Fri, 23 Feb 2024   AIC                             49.862\n",
      "Time:                        00:32:27   BIC                             55.084\n",
      "Sample:                    12-31-1904   HQIC                            50.995\n",
      "                         - 12-31-1996                                         \n",
      "Covariance Type:                  opg                                         \n",
      "==============================================================================\n",
      "                 coef    std err          z      P>|z|      [0.025      0.975]\n",
      "------------------------------------------------------------------------------\n",
      "const         -0.2834      0.092     -3.079      0.002      -0.464      -0.103\n",
      "ar.L1         -0.6102      2.583     -0.236      0.813      -5.673       4.453\n",
      "ar.L2          0.1280      1.848      0.069      0.945      -3.493       3.749\n",
      "ma.L1         -0.0208      2.564     -0.008      0.994      -5.046       5.004\n",
      "sigma2         0.3774      0.181      2.088      0.037       0.023       0.732\n",
      "===================================================================================\n",
      "Ljung-Box (L1) (Q):                   0.04   Jarque-Bera (JB):                 1.21\n",
      "Prob(Q):                              0.83   Prob(JB):                         0.55\n",
      "Heteroskedasticity (H):               0.31   Skew:                             0.22\n",
      "Prob(H) (two-sided):                  0.14   Kurtosis:                         1.91\n",
      "===================================================================================\n",
      "\n",
      "Warnings:\n",
      "[1] Covariance matrix calculated using the outer product of gradients (complex-step).\n"
     ]
    }
   ],
   "source": [
    "# Fit an ARMA(2,1) model\n",
    "mod_arma = ARIMA(data_diff, order=(2, 0, 1))\n",
    "res_arma = mod_arma.fit()\n",
    "\n",
    "# Print out summary information on the fit\n",
    "print(res_arma.summary())"
   ]
  },
  {
   "cell_type": "code",
   "execution_count": 12,
   "metadata": {},
   "outputs": [
    {
     "name": "stdout",
     "output_type": "stream",
     "text": [
      "                               SARIMAX Results                                \n",
      "==============================================================================\n",
      "Dep. Variable:          winning_times   No. Observations:                   21\n",
      "Model:                 ARIMA(2, 0, 2)   Log Likelihood                 -16.472\n",
      "Date:                Fri, 23 Feb 2024   AIC                             44.943\n",
      "Time:                        00:32:47   BIC                             51.210\n",
      "Sample:                    12-31-1904   HQIC                            46.303\n",
      "                         - 12-31-1996                                         \n",
      "Covariance Type:                  opg                                         \n",
      "==============================================================================\n",
      "                 coef    std err          z      P>|z|      [0.025      0.975]\n",
      "------------------------------------------------------------------------------\n",
      "const         -0.2718      0.103     -2.630      0.009      -0.474      -0.069\n",
      "ar.L1         -1.7573      0.117    -14.997      0.000      -1.987      -1.528\n",
      "ar.L2         -0.9180      0.120     -7.667      0.000      -1.153      -0.683\n",
      "ma.L1          1.5669     47.062      0.033      0.973     -90.673      93.807\n",
      "ma.L2          0.9985     59.964      0.017      0.987    -116.529     118.526\n",
      "sigma2         0.2126     12.706      0.017      0.987     -24.691      25.116\n",
      "===================================================================================\n",
      "Ljung-Box (L1) (Q):                   0.03   Jarque-Bera (JB):                 0.87\n",
      "Prob(Q):                              0.86   Prob(JB):                         0.65\n",
      "Heteroskedasticity (H):               0.41   Skew:                            -0.30\n",
      "Prob(H) (two-sided):                  0.26   Kurtosis:                         2.20\n",
      "===================================================================================\n",
      "\n",
      "Warnings:\n",
      "[1] Covariance matrix calculated using the outer product of gradients (complex-step).\n"
     ]
    }
   ],
   "source": [
    "# Fit an ARMA(2,2) model\n",
    "mod_arma = ARIMA(data_diff, order=(2, 0, 2))\n",
    "res_arma = mod_arma.fit()\n",
    "\n",
    "# Print out summary information on the fit\n",
    "print(res_arma.summary())"
   ]
  },
  {
   "cell_type": "markdown",
   "metadata": {},
   "source": [
    "## What is your final model? Why did you pick this model?"
   ]
  },
  {
   "cell_type": "code",
   "execution_count": null,
   "metadata": {},
   "outputs": [],
   "source": [
    "# Your comments here"
   ]
  },
  {
   "cell_type": "markdown",
   "metadata": {},
   "source": [
    "## Summary \n",
    "\n",
    "Well done. In addition to manipulating and visualizing time series data, you now know how to create a stationary time series and fit ARMA models. "
   ]
  }
 ],
 "metadata": {
  "kernelspec": {
   "display_name": "Python (learn-env)",
   "language": "python",
   "name": "learn-env"
  },
  "language_info": {
   "codemirror_mode": {
    "name": "ipython",
    "version": 3
   },
   "file_extension": ".py",
   "mimetype": "text/x-python",
   "name": "python",
   "nbconvert_exporter": "python",
   "pygments_lexer": "ipython3",
   "version": "3.8.5"
  }
 },
 "nbformat": 4,
 "nbformat_minor": 2
}
